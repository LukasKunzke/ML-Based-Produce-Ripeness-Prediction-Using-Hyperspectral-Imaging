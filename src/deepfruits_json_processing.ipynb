{
 "cells": [
  {
   "cell_type": "markdown",
   "metadata": {},
   "source": [
    "# <a id='toc1_'></a>[Predicting produce ripeness with hyperspectral image data](#toc0_)"
   ]
  },
  {
   "cell_type": "markdown",
   "metadata": {},
   "source": [
    "**Table of contents**<a id='toc0_'></a>    \n",
    "\n",
    "  - [Download and organize data](#toc1_1_)    \n",
    "  - [Imports](#toc1_2_)    \n",
    "  - [Set produce and camera](#toc1_3_)    \n",
    "  - [Prepare DataFrame](#toc1_4_)    \n",
    "  - [Drop irrelevant columns and convert columns to int/float where appropriate](#toc1_5_)    \n",
    "  - [Handle Missing values](#toc1_6_)    \n",
    "  - [Refine Labels](#toc1_7_)    \n",
    "  - [Save csvs for each camera setup](#toc1_8_)    \n",
    "  - [Verify label distributions before analysis](#toc1_9_)    \n",
    "  - [Load, Preprocess and Save the Images](#toc1_10_)    \n",
    "  - [Fit and Tune Models](#toc1_11_)    \n",
    "  - [Establish comparison to refrence paper](#toc1_12_)    \n",
    "\n",
    "<!-- vscode-jupyter-toc-config\n",
    "\tnumbering=false\n",
    "\tanchor=true\n",
    "\tflat=false\n",
    "\tminLevel=1\n",
    "\tmaxLevel=6\n",
    "\t/vscode-jupyter-toc-config -->\n",
    "<!-- THIS CELL WILL BE REPLACED ON TOC UPDATE. DO NOT WRITE YOUR TEXT IN THIS CELL -->"
   ]
  },
  {
   "cell_type": "markdown",
   "metadata": {},
   "source": [
    "## <a id='toc1_1_'></a>[Download and organize data](#toc0_)\n"
   ]
  },
  {
   "cell_type": "code",
   "execution_count": null,
   "metadata": {},
   "outputs": [],
   "source": [
    "import os\n",
    "import zipfile\n",
    "import urllib.request\n",
    "\n",
    "# Create the data directory if it doesn't exist\n",
    "os.makedirs('data', exist_ok=True)\n",
    "os.makedirs('data/processed', exist_ok=True)\n",
    "os.makedirs('data/output', exist_ok=True)\n",
    "os.makedirs('data/raw', exist_ok=True)\n",
    "\n",
    "# URLs of the files to download\n",
    "urls = [\n",
    "    \"https://cogsys.cs.uni-tuebingen.de/webprojects/DeepHS-Fruit-2023-Datasets/Kiwi.zip\",\n",
    "    \"https://cogsys.cs.uni-tuebingen.de/webprojects/DeepHS-Fruit-2023-Datasets/annotations.zip\",\n",
    "    \"https://cogsys.cs.uni-tuebingen.de/webprojects/DeepHS-Fruit-2023-Datasets/annotations-upd-2024-01-09.zip\"\n",
    "]\n",
    "\n",
    "# Corresponding folder names to check\n",
    "folders = [\n",
    "    'data/raw/Kiwi',\n",
    "    'data/raw/annotations'\n",
    "]\n",
    "\n",
    "# Download and unzip each file if the corresponding folder doesn't exist\n",
    "for url, folder in zip(urls, folders):\n",
    "    if not os.path.exists(folder):\n",
    "        # Extract the filename from the URL\n",
    "        filename = os.path.join('data/raw', os.path.basename(url))\n",
    "        \n",
    "        # Download the file\n",
    "        urllib.request.urlretrieve(url, filename)\n",
    "        \n",
    "        # Unzip the file\n",
    "        with zipfile.ZipFile(filename, 'r') as zip_ref:\n",
    "            zip_ref.extractall('data/raw')\n",
    "        \n",
    "        # Remove the zip file after extraction\n",
    "        os.remove(filename)"
   ]
  },
  {
   "cell_type": "markdown",
   "metadata": {},
   "source": [
    "## <a id='toc1_2_'></a>[Imports](#toc0_)"
   ]
  },
  {
   "cell_type": "code",
   "execution_count": 6,
   "metadata": {},
   "outputs": [],
   "source": [
    "import json\n",
    "import math\n",
    "import pickle\n",
    "import pandas as pd\n",
    "import matplotlib.pyplot as plt\n",
    "import seaborn as sns\n",
    "from sklearn.svm import SVR\n",
    "from sklearn.preprocessing import StandardScaler\n",
    "from sklearn.impute import KNNImputer\n",
    "from sklearn.preprocessing import LabelEncoder\n",
    "from sklearn.preprocessing import StandardScaler\n",
    "import numpy as np\n",
    "import loader_deepfruit as loader\n",
    "import model_benchmark_deepfruits as model_benchmark\n",
    "from configurations import *\n",
    "from sklearn.model_selection import train_test_split"
   ]
  },
  {
   "cell_type": "code",
   "execution_count": null,
   "metadata": {},
   "outputs": [],
   "source": [
    "import importlib\n",
    "\n",
    "# Reload local modules in case they have been changed\n",
    "importlib.reload(model_benchmark)\n",
    "importlib.reload(loader)\n",
    "from configurations import *\n"
   ]
  },
  {
   "cell_type": "markdown",
   "metadata": {},
   "source": [
    "## <a id='toc1_3_'></a>[Set produce and camera](#toc0_)"
   ]
  },
  {
   "cell_type": "code",
   "execution_count": 4,
   "metadata": {},
   "outputs": [],
   "source": [
    "# Select a fruit to work with (Options: 'Kiwi'; Forthcoming: 'Avocado', 'Persimmons', 'Papayas', 'Mango')\n",
    "fruit = 'Kiwi'\n",
    "# Select a camera to work with (Options: 'VIS', 'NIR')\n",
    "# VIS = Specim FX10\n",
    "# NIR = INNOSPEC RedEye\n",
    "camera = 'VIS'\n"
   ]
  },
  {
   "cell_type": "code",
   "execution_count": null,
   "metadata": {},
   "outputs": [],
   "source": [
    "if camera == 'VIS':\n",
    "    wavelengths = 223\n",
    "else:\n",
    "    wavelengths = 251 "
   ]
  },
  {
   "cell_type": "markdown",
   "metadata": {},
   "source": [
    "## <a id='toc1_4_'></a>[Prepare DataFrame](#toc0_)"
   ]
  },
  {
   "cell_type": "code",
   "execution_count": null,
   "metadata": {},
   "outputs": [
    {
     "name": "stdout",
     "output_type": "stream",
     "text": [
      "<class 'pandas.core.frame.DataFrame'>\n",
      "RangeIndex: 442 entries, 0 to 441\n",
      "Data columns (total 16 columns):\n",
      " #   Column               Non-Null Count  Dtype  \n",
      "---  ------               --------------  -----  \n",
      " 0   id_x                 442 non-null    int64  \n",
      " 1   fruit                442 non-null    object \n",
      " 2   side                 442 non-null    object \n",
      " 3   day                  442 non-null    object \n",
      " 4   camera_type          442 non-null    object \n",
      " 5   files.header_file    442 non-null    object \n",
      " 6   files.data_file      442 non-null    object \n",
      " 7   id_y                 442 non-null    int64  \n",
      " 8   record_id            442 non-null    int64  \n",
      " 9   init_weight          442 non-null    int64  \n",
      " 10  end_weight           424 non-null    float64\n",
      " 11  storage_days         442 non-null    int64  \n",
      " 12  firmness             424 non-null    float64\n",
      " 13  comment              76 non-null     object \n",
      " 14  ripeness_state       442 non-null    object \n",
      " 15  ripeness_state_fine  442 non-null    object \n",
      "dtypes: float64(2), int64(5), object(9)\n",
      "memory usage: 55.4+ KB\n",
      "None\n"
     ]
    }
   ],
   "source": [
    "# Function to load and join JSON file\n",
    "def load_json(json_file):\n",
    "    data = json.load(open(json_file))\n",
    "    records = data.get('records', [])\n",
    "    df_records = pd.json_normalize(records)\n",
    "    annotations = data.get('annotations', [])\n",
    "    df_annotations = pd.DataFrame(annotations)\n",
    "    df_merged = pd.merge(df_records, df_annotations, left_on='id', right_on='record_id', how='right')\n",
    "    return df_merged\n",
    "\n",
    "# Load and normalize each JSON file\n",
    "train_df = load_json('data/raw/annotations/train_only_labeled.json')\n",
    "test_df = load_json('data/raw/annotations/test.json')\n",
    "val_df = load_json('data/raw/annotations/val.json')\n",
    "\n",
    "# Concatenate the DataFrames\n",
    "df_combined = pd.concat([train_df, test_df, val_df], ignore_index=True)\n",
    "\n",
    "# Display the combined DataFrame\n",
    "print(df_combined.info())\n"
   ]
  },
  {
   "cell_type": "markdown",
   "metadata": {},
   "source": [
    "## <a id='toc1_5_'></a>[Drop irrelevant columns and convert columns to int/float where appropriate](#toc0_)"
   ]
  },
  {
   "cell_type": "code",
   "execution_count": 7,
   "metadata": {},
   "outputs": [],
   "source": [
    "df_merged = df_combined.drop(columns=['comment'])\n",
    "df_merged = df_merged.drop(columns=['id_y'])"
   ]
  },
  {
   "cell_type": "code",
   "execution_count": 8,
   "metadata": {},
   "outputs": [
    {
     "name": "stdout",
     "output_type": "stream",
     "text": [
      "Kiwi DataFrame:\n",
      "<class 'pandas.core.frame.DataFrame'>\n",
      "Index: 262 entries, 8 to 441\n",
      "Data columns (total 13 columns):\n",
      " #   Column               Non-Null Count  Dtype  \n",
      "---  ------               --------------  -----  \n",
      " 0   id_x                 262 non-null    int64  \n",
      " 1   side                 262 non-null    object \n",
      " 2   day                  262 non-null    object \n",
      " 3   camera_type          262 non-null    object \n",
      " 4   files.header_file    262 non-null    object \n",
      " 5   files.data_file      262 non-null    object \n",
      " 6   record_id            262 non-null    int64  \n",
      " 7   init_weight          262 non-null    int64  \n",
      " 8   end_weight           248 non-null    float64\n",
      " 9   storage_days         262 non-null    int64  \n",
      " 10  firmness             248 non-null    float64\n",
      " 11  ripeness_state       262 non-null    object \n",
      " 12  ripeness_state_fine  262 non-null    object \n",
      "dtypes: float64(2), int64(4), object(7)\n",
      "memory usage: 28.7+ KB\n",
      "None\n"
     ]
    }
   ],
   "source": [
    "\n",
    "# Create a copy of the DataFrame with only entries where column fruit is variable fruit\n",
    "df_fruit = df_merged[df_merged['fruit'] == fruit].copy()\n",
    "df_fruit = df_fruit.drop(columns=['fruit'])\n",
    "print(fruit + \" DataFrame:\")\n",
    "print(df_fruit.info())"
   ]
  },
  {
   "cell_type": "code",
   "execution_count": null,
   "metadata": {},
   "outputs": [],
   "source": [
    "df = df_fruit.copy()\n",
    "\n",
    "# 1. Define mappings for 'ripeness_state' and 'ripeness_state_fine'\n",
    "ripeness_mapping = {\"unripe\":1, \"perfect\": 2, \"overripe\": 3}\n",
    "ripeness_fine_mapping = {\"unripe\":1, \"ripe\":2,\"perfect\": 3, \"near_overripe\":4,\"overripe\": 5}\n",
    "\n",
    "# 2. Apply the mappings to the DataFrame\n",
    "df['ripeness_state'] = df['ripeness_state'].map(ripeness_mapping)\n",
    "df['ripeness_state_fine'] = df['ripeness_state_fine'].map(ripeness_fine_mapping)\n",
    "\n",
    "# 3. Apply day String to int transformation with error handling\n",
    "df['day_int'] = pd.to_numeric(df['day'].str.extract(r'day_(\\d+)')[0], errors='coerce').fillna(0).astype(int)\n",
    "df = df.drop(columns=['day'])"
   ]
  },
  {
   "cell_type": "markdown",
   "metadata": {},
   "source": [
    "## <a id='toc1_6_'></a>[Handle Missing values](#toc0_)"
   ]
  },
  {
   "cell_type": "code",
   "execution_count": 10,
   "metadata": {},
   "outputs": [
    {
     "name": "stdout",
     "output_type": "stream",
     "text": [
      "id_x                    0\n",
      "side                    0\n",
      "camera_type             0\n",
      "files.header_file       0\n",
      "files.data_file         0\n",
      "record_id               0\n",
      "init_weight             0\n",
      "end_weight             14\n",
      "storage_days            0\n",
      "firmness               14\n",
      "ripeness_state          0\n",
      "ripeness_state_fine     0\n",
      "day_int                 0\n",
      "dtype: int64\n"
     ]
    }
   ],
   "source": [
    "# Check for missing values\n",
    "print(df.isnull().sum())"
   ]
  },
  {
   "cell_type": "code",
   "execution_count": 11,
   "metadata": {},
   "outputs": [
    {
     "name": "stdout",
     "output_type": "stream",
     "text": [
      "Rows with missing values before imputation:\n",
      "     end_weight  firmness\n",
      "210         NaN       NaN\n",
      "211         NaN       NaN\n",
      "224         NaN       NaN\n",
      "225         NaN       NaN\n",
      "238         NaN       NaN\n",
      "239         NaN       NaN\n",
      "317         NaN       NaN\n",
      "318         NaN       NaN\n",
      "321         NaN       NaN\n",
      "323         NaN       NaN\n",
      "382         NaN       NaN\n",
      "419         NaN       NaN\n",
      "420         NaN       NaN\n",
      "438         NaN       NaN\n"
     ]
    }
   ],
   "source": [
    "target_columns = ['end_weight', 'firmness']\n",
    "# 1. Identify missing values in the original DataFrame\n",
    "missing_mask = df[target_columns ].isnull()\n",
    "print(\"Rows with missing values before imputation:\")\n",
    "print(df[missing_mask.any(axis=1)][target_columns])"
   ]
  },
  {
   "cell_type": "code",
   "execution_count": null,
   "metadata": {},
   "outputs": [
    {
     "name": "stdout",
     "output_type": "stream",
     "text": [
      "Imputed values:\n",
      "     end_weight  firmness\n",
      "210       111.4     280.0\n",
      "211       111.4     280.0\n",
      "224       111.4     280.0\n",
      "225       111.4     280.0\n",
      "238       111.4     280.0\n",
      "239       111.4     280.0\n",
      "317       105.0     795.0\n",
      "318       105.0     795.0\n",
      "321       105.0     795.0\n",
      "323       105.0     795.0\n",
      "382       105.0     795.0\n",
      "419       111.4     280.0\n",
      "420       111.4     280.0\n",
      "438       105.0     795.0\n",
      "Missing values after imputation:\n",
      "end_weight    0\n",
      "firmness      0\n",
      "dtype: int64\n"
     ]
    }
   ],
   "source": [
    "df_copy = df.copy()\n",
    "\n",
    "# Define relevant feature columns and target columns\n",
    "scaler = StandardScaler()\n",
    "impute_features = ['init_weight', 'ripeness_state', 'ripeness_state_fine', 'storage_days']\n",
    "\n",
    "df_copy[impute_features] = scaler.fit_transform(df_copy[impute_features])\n",
    "\n",
    "# Initialize the KNN Imputer\n",
    "imputer = KNNImputer(n_neighbors=10)\n",
    "\n",
    "# Fit the imputer on the relevant features and target columns\n",
    "# Combine impute_features and target_columns for imputation\n",
    "impute_df = df_copy[impute_features + target_columns]\n",
    "\n",
    "# Apply the imputer\n",
    "imputed_array = imputer.fit_transform(impute_df)\n",
    "\n",
    "# Convert the imputed array back to a DataFrame\n",
    "imputed_df = pd.DataFrame(imputed_array, columns=impute_features + target_columns, index=df.index)\n",
    "\n",
    "# Update only the target columns in the original DataFrame\n",
    "df[target_columns] = imputed_df[target_columns]\n",
    "\n",
    "# Print the imputed values using the same mask\n",
    "print(\"Imputed values:\")\n",
    "print(df[missing_mask.any(axis=1)][target_columns])\n",
    "\n",
    "# Verify that there are no missing values in 'end_weight' and 'firmness'\n",
    "print(\"Missing values after imputation:\")\n",
    "print(df[target_columns].isnull().sum())\n"
   ]
  },
  {
   "cell_type": "markdown",
   "metadata": {},
   "source": [
    "## <a id='toc1_7_'></a>[Refine Labels](#toc0_)"
   ]
  },
  {
   "cell_type": "code",
   "execution_count": 13,
   "metadata": {},
   "outputs": [
    {
     "data": {
      "text/html": [
       "<div>\n",
       "<style scoped>\n",
       "    .dataframe tbody tr th:only-of-type {\n",
       "        vertical-align: middle;\n",
       "    }\n",
       "\n",
       "    .dataframe tbody tr th {\n",
       "        vertical-align: top;\n",
       "    }\n",
       "\n",
       "    .dataframe thead th {\n",
       "        text-align: right;\n",
       "    }\n",
       "</style>\n",
       "<table border=\"1\" class=\"dataframe\">\n",
       "  <thead>\n",
       "    <tr style=\"text-align: right;\">\n",
       "      <th></th>\n",
       "      <th>mean</th>\n",
       "      <th>min</th>\n",
       "      <th>max</th>\n",
       "    </tr>\n",
       "  </thead>\n",
       "  <tbody>\n",
       "    <tr>\n",
       "      <th>id_x</th>\n",
       "      <td>132.973282</td>\n",
       "      <td>2.000000</td>\n",
       "      <td>327.000000</td>\n",
       "    </tr>\n",
       "    <tr>\n",
       "      <th>record_id</th>\n",
       "      <td>132.973282</td>\n",
       "      <td>2.000000</td>\n",
       "      <td>327.000000</td>\n",
       "    </tr>\n",
       "    <tr>\n",
       "      <th>init_weight</th>\n",
       "      <td>119.717557</td>\n",
       "      <td>88.000000</td>\n",
       "      <td>135.000000</td>\n",
       "    </tr>\n",
       "    <tr>\n",
       "      <th>end_weight</th>\n",
       "      <td>117.019847</td>\n",
       "      <td>87.000000</td>\n",
       "      <td>133.000000</td>\n",
       "    </tr>\n",
       "    <tr>\n",
       "      <th>storage_days</th>\n",
       "      <td>5.572519</td>\n",
       "      <td>0.000000</td>\n",
       "      <td>18.000000</td>\n",
       "    </tr>\n",
       "    <tr>\n",
       "      <th>firmness</th>\n",
       "      <td>1331.908397</td>\n",
       "      <td>0.000000</td>\n",
       "      <td>3200.000000</td>\n",
       "    </tr>\n",
       "    <tr>\n",
       "      <th>ripeness_state</th>\n",
       "      <td>1.969466</td>\n",
       "      <td>1.000000</td>\n",
       "      <td>3.000000</td>\n",
       "    </tr>\n",
       "    <tr>\n",
       "      <th>ripeness_state_fine</th>\n",
       "      <td>2.595420</td>\n",
       "      <td>1.000000</td>\n",
       "      <td>5.000000</td>\n",
       "    </tr>\n",
       "    <tr>\n",
       "      <th>day_int</th>\n",
       "      <td>2.732824</td>\n",
       "      <td>0.000000</td>\n",
       "      <td>10.000000</td>\n",
       "    </tr>\n",
       "    <tr>\n",
       "      <th>weightloss %</th>\n",
       "      <td>0.022786</td>\n",
       "      <td>-0.003604</td>\n",
       "      <td>0.079646</td>\n",
       "    </tr>\n",
       "  </tbody>\n",
       "</table>\n",
       "</div>"
      ],
      "text/plain": [
       "                            mean        min          max\n",
       "id_x                  132.973282   2.000000   327.000000\n",
       "record_id             132.973282   2.000000   327.000000\n",
       "init_weight           119.717557  88.000000   135.000000\n",
       "end_weight            117.019847  87.000000   133.000000\n",
       "storage_days            5.572519   0.000000    18.000000\n",
       "firmness             1331.908397   0.000000  3200.000000\n",
       "ripeness_state          1.969466   1.000000     3.000000\n",
       "ripeness_state_fine     2.595420   1.000000     5.000000\n",
       "day_int                 2.732824   0.000000    10.000000\n",
       "weightloss %            0.022786  -0.003604     0.079646"
      ]
     },
     "execution_count": 13,
     "metadata": {},
     "output_type": "execute_result"
    }
   ],
   "source": [
    "# Create the 'weightloss %' column\n",
    "df['weightloss %'] = df['init_weight'] - df['end_weight']\n",
    "df['weightloss %'] = df['weightloss %']  / df['init_weight']\n",
    "# Verify the new columns\n",
    "df.describe().loc[['mean','min','max']].T"
   ]
  },
  {
   "cell_type": "code",
   "execution_count": 14,
   "metadata": {},
   "outputs": [
    {
     "name": "stdout",
     "output_type": "stream",
     "text": [
      "Summary statistics of 'ripeness_state_synthetic':\n",
      "count    262.000000\n",
      "mean       1.967680\n",
      "std        0.697174\n",
      "min        0.963421\n",
      "25%        1.109456\n",
      "50%        1.905635\n",
      "75%        2.510081\n",
      "max        3.100335\n",
      "Name: ripeness_state_synthetic, dtype: float64\n"
     ]
    },
    {
     "name": "stdout",
     "output_type": "stream",
     "text": [
      "Summary statistics of 'ripeness_state_fine_synthetic':\n",
      "count    262.000000\n",
      "mean       2.631652\n",
      "std        1.443526\n",
      "min        0.899537\n",
      "25%        1.099951\n",
      "50%        2.397380\n",
      "75%        4.099817\n",
      "max        4.952275\n",
      "Name: ripeness_state_fine_synthetic, dtype: float64\n"
     ]
    }
   ],
   "source": [
    "# 1. Make a copy of the DataFrame\n",
    "df_copy = df.copy()\n",
    "\n",
    "# 2. Regularize \n",
    "scaler = StandardScaler()\n",
    "features = ['firmness', 'ripeness_state', 'weightloss %', 'init_weight', 'end_weight', 'ripeness_state_fine']\n",
    "df_copy[features] = scaler.fit_transform(df_copy[features])\n",
    "\n",
    "def train_and_refine(df, features, target):\n",
    "    \"\"\"\n",
    "    Train an SVR model and predict the target variable.\n",
    "\n",
    "    Parameters:\n",
    "    - df: The DataFrame containing the data.\n",
    "    - features: A list of feature column names.\n",
    "    - target: The target column name.\n",
    "\n",
    "    Returns:\n",
    "    - df: The DataFrame with SVR predictions and differences added.\n",
    "    \"\"\"\n",
    "\n",
    "    # 3. Define features and target variable\n",
    "    X = df_copy[features]\n",
    "    y = df[target]\n",
    "\n",
    "    # 4. Train an SVR model\n",
    "    svr = SVR(kernel='rbf')\n",
    "    svr.fit(X, y)\n",
    "\n",
    "    # 5. Predict the target variable using the trained SVR model\n",
    "    df_copy[target+'_synthetic'] = svr.predict(X)\n",
    "\n",
    "    # 6. Add the SVR predictions to the original DataFrame\n",
    "    df[target+'_synthetic'] = df_copy[target+'_synthetic']\n",
    "\n",
    "    # Verify the new columns\n",
    "    print(f\"Summary statistics of '{target}_synthetic':\")\n",
    "    print(df[target+'_synthetic'].describe())\n",
    "\n",
    "    return df\n",
    "features = ['firmness', 'weightloss %', 'init_weight', 'end_weight', 'ripeness_state_fine']\n",
    "df = train_and_refine(df, features, 'ripeness_state')\n",
    "features = ['ripeness_state', 'weightloss %', 'init_weight', 'end_weight']\n",
    "df = train_and_refine(df, features, 'ripeness_state_fine')\n"
   ]
  },
  {
   "cell_type": "code",
   "execution_count": 15,
   "metadata": {},
   "outputs": [
    {
     "data": {
      "text/html": [
       "<div>\n",
       "<style scoped>\n",
       "    .dataframe tbody tr th:only-of-type {\n",
       "        vertical-align: middle;\n",
       "    }\n",
       "\n",
       "    .dataframe tbody tr th {\n",
       "        vertical-align: top;\n",
       "    }\n",
       "\n",
       "    .dataframe thead th {\n",
       "        text-align: right;\n",
       "    }\n",
       "</style>\n",
       "<table border=\"1\" class=\"dataframe\">\n",
       "  <thead>\n",
       "    <tr style=\"text-align: right;\">\n",
       "      <th></th>\n",
       "      <th>mean</th>\n",
       "      <th>min</th>\n",
       "      <th>max</th>\n",
       "    </tr>\n",
       "  </thead>\n",
       "  <tbody>\n",
       "    <tr>\n",
       "      <th>ripeness_state</th>\n",
       "      <td>1.969466</td>\n",
       "      <td>1.0</td>\n",
       "      <td>3.0</td>\n",
       "    </tr>\n",
       "    <tr>\n",
       "      <th>ripeness_state_fine</th>\n",
       "      <td>1.797710</td>\n",
       "      <td>1.0</td>\n",
       "      <td>3.0</td>\n",
       "    </tr>\n",
       "    <tr>\n",
       "      <th>ripeness_state_synthetic</th>\n",
       "      <td>1.939915</td>\n",
       "      <td>1.0</td>\n",
       "      <td>3.0</td>\n",
       "    </tr>\n",
       "    <tr>\n",
       "      <th>ripeness_state_fine_synthetic</th>\n",
       "      <td>1.854787</td>\n",
       "      <td>1.0</td>\n",
       "      <td>3.0</td>\n",
       "    </tr>\n",
       "  </tbody>\n",
       "</table>\n",
       "</div>"
      ],
      "text/plain": [
       "                                   mean  min  max\n",
       "ripeness_state                 1.969466  1.0  3.0\n",
       "ripeness_state_fine            1.797710  1.0  3.0\n",
       "ripeness_state_synthetic       1.939915  1.0  3.0\n",
       "ripeness_state_fine_synthetic  1.854787  1.0  3.0"
      ]
     },
     "execution_count": 15,
     "metadata": {},
     "output_type": "execute_result"
    }
   ],
   "source": [
    "def standardize_column(df, column_name, new_min=1, new_max=3):\n",
    "    \"\"\"\n",
    "    Standardize the values in a column to a new range [new_min, new_max].\n",
    "\n",
    "    Parameters:\n",
    "    - df: The DataFrame containing the data.\n",
    "    - column_name: The name of the column to standardize.\n",
    "    - new_min: The minimum value of the new range.\n",
    "    - new_max: The maximum value of the new range.\n",
    "\n",
    "    Returns:\n",
    "    - df: The DataFrame with the standardized column.\n",
    "    \"\"\"\n",
    "    old_min = df[column_name].min()\n",
    "    old_max = df[column_name].max()\n",
    "    df[column_name] = ((df[column_name] - old_min) / (old_max - old_min)) * (new_max - new_min) + new_min\n",
    "    return df\n",
    "\n",
    "columns_to_standardize = [\n",
    "    'ripeness_state',\n",
    "    'ripeness_state_fine',\n",
    "    'ripeness_state_synthetic',\n",
    "    'ripeness_state_fine_synthetic',\n",
    "]\n",
    "\n",
    "for column in columns_to_standardize:\n",
    "    df = standardize_column(df, column)\n",
    "\n",
    "# Verify the standardized columns\n",
    "df.describe().loc[['mean', 'min', 'max'], columns_to_standardize].T"
   ]
  },
  {
   "cell_type": "code",
   "execution_count": null,
   "metadata": {},
   "outputs": [
    {
     "name": "stdout",
     "output_type": "stream",
     "text": [
      "Correlation between 'firmness' and 'ripeness_state_fine' for Kiwi: 0.9479973117954898\n"
     ]
    }
   ],
   "source": [
    "# 2. Check correlation between two columns, e.g., 'firmness' and 'ripeness_state_fine'\n",
    "\n",
    "correlation = df['ripeness_state'].corr(df['ripeness_state_fine'])\n",
    "\n",
    "# Print the correlation results\n",
    "\n",
    "print(f\"Correlation between 'firmness' and 'ripeness_state_fine' for Kiwi: {correlation}\")"
   ]
  },
  {
   "cell_type": "markdown",
   "metadata": {},
   "source": [
    "## <a id='toc1_8_'></a>[Save csvs for each camera setup](#toc0_)"
   ]
  },
  {
   "cell_type": "code",
   "execution_count": 17,
   "metadata": {},
   "outputs": [],
   "source": [
    "# Create a copy of the DataFrame with only entries where camera_type is 'NIR'\n",
    "df_NIR = df[df['camera_type'] == 'NIR'].copy()\n",
    "\n",
    "# Create a copy of the DataFrame with only entries where camera_type is 'VIS'\n",
    "df_VIS = df[df['camera_type'] == 'VIS'].copy()\n",
    "\n",
    "# Save the DataFrames to the 'data/processed' directory\n",
    "df_VIS.to_csv(os.path.join('data/processed', fruit + '_table_VIS.csv'), index=False)\n",
    "df_NIR.to_csv(os.path.join('data/processed', fruit + '_table_NIR.csv'), index=False)"
   ]
  },
  {
   "cell_type": "code",
   "execution_count": null,
   "metadata": {},
   "outputs": [
    {
     "name": "stdout",
     "output_type": "stream",
     "text": [
      "<class 'pandas.core.frame.DataFrame'>\n",
      "Index: 76 entries, 8 to 414\n",
      "Data columns (total 16 columns):\n",
      " #   Column                         Non-Null Count  Dtype  \n",
      "---  ------                         --------------  -----  \n",
      " 0   id_x                           76 non-null     int64  \n",
      " 1   side                           76 non-null     object \n",
      " 2   camera_type                    76 non-null     object \n",
      " 3   files.header_file              76 non-null     object \n",
      " 4   files.data_file                76 non-null     object \n",
      " 5   record_id                      76 non-null     int64  \n",
      " 6   init_weight                    76 non-null     int64  \n",
      " 7   end_weight                     76 non-null     float64\n",
      " 8   storage_days                   76 non-null     int64  \n",
      " 9   firmness                       76 non-null     float64\n",
      " 10  ripeness_state                 76 non-null     float64\n",
      " 11  ripeness_state_fine            76 non-null     float64\n",
      " 12  day_int                        76 non-null     int64  \n",
      " 13  weightloss %                   76 non-null     float64\n",
      " 14  ripeness_state_synthetic       76 non-null     float64\n",
      " 15  ripeness_state_fine_synthetic  76 non-null     float64\n",
      "dtypes: float64(7), int64(5), object(4)\n",
      "memory usage: 10.1+ KB\n",
      "None\n",
      "<class 'pandas.core.frame.DataFrame'>\n",
      "Index: 186 entries, 9 to 441\n",
      "Data columns (total 16 columns):\n",
      " #   Column                         Non-Null Count  Dtype  \n",
      "---  ------                         --------------  -----  \n",
      " 0   id_x                           186 non-null    int64  \n",
      " 1   side                           186 non-null    object \n",
      " 2   camera_type                    186 non-null    object \n",
      " 3   files.header_file              186 non-null    object \n",
      " 4   files.data_file                186 non-null    object \n",
      " 5   record_id                      186 non-null    int64  \n",
      " 6   init_weight                    186 non-null    int64  \n",
      " 7   end_weight                     186 non-null    float64\n",
      " 8   storage_days                   186 non-null    int64  \n",
      " 9   firmness                       186 non-null    float64\n",
      " 10  ripeness_state                 186 non-null    float64\n",
      " 11  ripeness_state_fine            186 non-null    float64\n",
      " 12  day_int                        186 non-null    int64  \n",
      " 13  weightloss %                   186 non-null    float64\n",
      " 14  ripeness_state_synthetic       186 non-null    float64\n",
      " 15  ripeness_state_fine_synthetic  186 non-null    float64\n",
      "dtypes: float64(7), int64(5), object(4)\n",
      "memory usage: 24.7+ KB\n",
      "None\n"
     ]
    }
   ],
   "source": [
    "# Verify the independent DataFrames\n",
    "print(df_NIR.info())\n",
    "print(df_VIS.info())"
   ]
  },
  {
   "cell_type": "markdown",
   "metadata": {},
   "source": [
    "## <a id='toc1_9_'></a>[Verify label distributions before analysis](#toc0_)"
   ]
  },
  {
   "cell_type": "code",
   "execution_count": null,
   "metadata": {},
   "outputs": [
    {
     "name": "stdout",
     "output_type": "stream",
     "text": [
      "Label distribution for 'ripeness_state':\n",
      "ripeness_state\n",
      "1.0    0.311828\n",
      "2.0    0.430108\n",
      "3.0    0.258065\n",
      "Name: proportion, dtype: float64\n"
     ]
    },
    {
     "data": {
      "image/png": "[encoded data removed]",
      "text/plain": [
       "<Figure size 1200x600 with 1 Axes>"
      ]
     },
     "metadata": {},
     "output_type": "display_data"
    },
    {
     "name": "stdout",
     "output_type": "stream",
     "text": [
      "Label distribution for 'ripeness_state_fine':\n",
      "ripeness_state_fine\n",
      "1.0    0.311828\n",
      "1.5    0.301075\n",
      "2.0    0.129032\n",
      "2.5    0.053763\n",
      "3.0    0.204301\n",
      "Name: proportion, dtype: float64\n"
     ]
    },
    {
     "data": {
      "image/png": "[encoded data removed]",
      "text/plain": [
       "<Figure size 1200x600 with 1 Axes>"
      ]
     },
     "metadata": {},
     "output_type": "display_data"
    },
    {
     "name": "stdout",
     "output_type": "stream",
     "text": [
      "Label distribution for 'ripeness_state':\n",
      "ripeness_state\n",
      "1.0    0.236842\n",
      "2.0    0.500000\n",
      "3.0    0.263158\n",
      "Name: proportion, dtype: float64\n"
     ]
    },
    {
     "data": {
      "image/png": "[encoded data removed]",
      "text/plain": [
       "<Figure size 1200x600 with 1 Axes>"
      ]
     },
     "metadata": {},
     "output_type": "display_data"
    },
    {
     "name": "stdout",
     "output_type": "stream",
     "text": [
      "Label distribution for 'ripeness_state_fine':\n",
      "ripeness_state_fine\n",
      "1.0    0.236842\n",
      "1.5    0.236842\n",
      "2.0    0.263158\n",
      "2.5    0.078947\n",
      "3.0    0.184211\n",
      "Name: proportion, dtype: float64\n"
     ]
    },
    {
     "data": {
      "image/png": "[encoded data removed]",
      "text/plain": [
       "<Figure size 1200x600 with 1 Axes>"
      ]
     },
     "metadata": {},
     "output_type": "display_data"
    }
   ],
   "source": [
    "def check_label_distrbution(df, column_name):\n",
    "    \"\"\"\n",
    "    Check the distribution of labels in the specified column of the DataFrame.\n",
    "    \n",
    "    Parameters:\n",
    "    - df: A pandas DataFrame containing the data.\n",
    "    - column_name: The name of the column to check for label distribution.\n",
    "    \"\"\"\n",
    "    # Calculate the frequency of each label\n",
    "    label_freq = df[column_name].value_counts(normalize=True).sort_index()\n",
    "    \n",
    "    # Display the frequency of each label\n",
    "    print(f\"Label distribution for '{column_name}':\")\n",
    "    print(label_freq)\n",
    "    \n",
    "    # Plot the frequency of each label\n",
    "    plt.figure(figsize=(12, 6))\n",
    "    sns.countplot(x=column_name, data=df, hue=column_name, palette='viridis', legend=False)\n",
    "    plt.title(f'Frequency of Values in {column_name}')\n",
    "    plt.xlabel('Values')\n",
    "    plt.ylabel('Frequency')\n",
    "    plt.tight_layout()\n",
    "    plt.show()\n",
    "    \n",
    "check_label_distrbution(df_VIS, 'ripeness_state')\n",
    "check_label_distrbution(df_VIS, 'ripeness_state_fine')\n",
    "check_label_distrbution(df_NIR, 'ripeness_state')\n",
    "check_label_distrbution(df_NIR, 'ripeness_state_fine')"
   ]
  },
  {
   "cell_type": "markdown",
   "metadata": {},
   "source": [
    "## <a id='toc1_10_'></a>[Load, Preprocess and Save the Images](#toc0_)"
   ]
  },
  {
   "cell_type": "code",
   "execution_count": 20,
   "metadata": {},
   "outputs": [
    {
     "name": "stdout",
     "output_type": "stream",
     "text": [
      "Loading images from data/processed/Kiwi_table_VIS.csv...\n",
      "Parameters used: image_count=162, stat_use=1, x_axis=4, y_axis=100, wavelengths=223, wavelength_factor=2\n",
      "Loaded 186 images.\n",
      "Applied 31 stats.\n",
      "Dimensions of all_stats: (186, 3472). This represents the statistics of the spectral data.\n",
      "\n",
      "Explained variance ratio: [5.20952599e-01 1.28221826e-01 1.09685676e-01 7.34384950e-02\n",
      " 3.50699863e-02 3.12910602e-02 2.50255362e-02 1.09663491e-02\n",
      " 8.81046789e-03 7.94215439e-03 6.08262879e-03 4.61192104e-03\n",
      " 4.50384457e-03 3.86306647e-03 1.98370669e-03 1.93980931e-03\n",
      " 1.81725393e-03 1.57720680e-03 1.23494005e-03 1.12370837e-03\n",
      " 1.07735672e-03 9.79412312e-04 8.84357767e-04 7.79788073e-04\n",
      " 7.06701504e-04 6.63349071e-04 6.29912690e-04 5.83863049e-04\n",
      " 5.45638137e-04 4.85915254e-04 4.55880835e-04 4.31152603e-04\n",
      " 3.87422709e-04 3.57187578e-04 3.30638782e-04 3.12622558e-04\n",
      " 3.10701883e-04 3.06273559e-04 2.94058344e-04 2.65822131e-04\n",
      " 2.61365575e-04 2.53397352e-04 2.47777930e-04 2.33950398e-04\n",
      " 2.29164054e-04 2.25307425e-04 2.02003207e-04 2.00812244e-04\n",
      " 1.90681387e-04 1.87830183e-04 1.82875634e-04 1.72051689e-04\n",
      " 1.71901115e-04 1.57737477e-04 1.56901787e-04 1.54968889e-04\n",
      " 1.51689970e-04 1.42580776e-04 1.40229414e-04 1.37908951e-04\n",
      " 1.35038265e-04 1.30596554e-04 1.26288838e-04 1.21296652e-04\n",
      " 1.20682168e-04 1.16583208e-04 1.15170692e-04 1.13399939e-04\n",
      " 1.11234802e-04 1.06427730e-04 1.05084341e-04 1.00629672e-04\n",
      " 9.87569045e-05 9.81145738e-05 9.33639373e-05 9.06704358e-05\n",
      " 8.84914312e-05 8.68019100e-05 8.64089565e-05 8.14164832e-05\n",
      " 8.04361846e-05 7.74461800e-05 7.72403012e-05 7.50306238e-05\n",
      " 7.30633124e-05 7.12325547e-05 7.08374284e-05 6.87339415e-05\n",
      " 6.84563653e-05 6.64074149e-05 6.49325089e-05 6.30023849e-05\n",
      " 6.29526258e-05 6.10935908e-05 5.83833514e-05 5.74995418e-05\n",
      " 5.70600506e-05 5.58026847e-05 5.49237205e-05 5.36120219e-05\n",
      " 5.24345445e-05 5.17952344e-05 4.96946582e-05 4.81013546e-05\n",
      " 4.79919513e-05 4.68445703e-05 4.52378232e-05 4.38626381e-05\n",
      " 4.31820752e-05 4.27042863e-05 4.12880353e-05 4.10809653e-05\n",
      " 3.95206943e-05 3.89716761e-05 3.72621825e-05 3.67285705e-05\n",
      " 3.53109841e-05 3.43056241e-05 3.36106792e-05 3.34265642e-05]\n",
      "Principal components shape: (120, 3472)\n",
      "Shape of all_stats_pca: (186, 120)\n"
     ]
    }
   ],
   "source": [
    " \n",
    "csv_file='data/processed/'+fruit+'_table_'+camera+'.csv'\n",
    "print(f\"Loading images from {csv_file}...\")\n",
    "# Load the CSV file\n",
    "df = pd.read_csv(csv_file)\n",
    "\n",
    "image_count=162\n",
    "stat_use=1\n",
    "x_axis=4\n",
    "y_axis=100\n",
    "wavelengths\n",
    "wavelength_factor=2\n",
    "target_statistic='MAE'\n",
    "\n",
    "\"\"\"\n",
    "----------\n",
    "json_file : \n",
    "   Path to the JSON file containing labels and paths to images.\n",
    "image_count :\n",
    "   Max Number of images to load per label.\n",
    "target_label :\n",
    "   Target label to load.\n",
    "stat_use : \n",
    "   Flag to determine if statistics should be used or the raw image.\n",
    "x_axis : \n",
    "   Size along the x-axis for image slicing.\n",
    "y_axis :\n",
    "   Size along the y-axis for image slicing.\n",
    "wavelengths :\n",
    "   Total number of wavelengths for the data set.\n",
    "wavelength_factor : \n",
    "   Factor by which wavelengths are averaged.\n",
    "\"\"\"\n",
    "\n",
    "data, length_of_statistics, pca, scaler = loader.load_spectral_data(df,\n",
    "                                                     image_count,\n",
    "                                                     stat_use,\n",
    "                                                     x_axis,\n",
    "                                                     y_axis,\n",
    "                                                     wavelengths,\n",
    "                                                     wavelength_factor)\n",
    "\n",
    "wave_count=int(math.ceil(wavelengths/wavelength_factor))\n"
   ]
  },
  {
   "cell_type": "code",
   "execution_count": null,
   "metadata": {},
   "outputs": [],
   "source": [
    "# Method to save variables to a file\n",
    "def save_variables(filename, data, length_of_statistics):\n",
    "    with open(filename, 'wb') as f:\n",
    "        pickle.dump((data, length_of_statistics), f)\n",
    "\n",
    "# Save variables to a file in the 'data/processed' directory\n",
    "save_variables('data/processed/'+fruit+'_'+camera+'_'+'images.pkl', data, length_of_statistics)"
   ]
  },
  {
   "cell_type": "markdown",
   "metadata": {},
   "source": [
    "## <a id='toc1_11_'></a>[Fit and Tune Models](#toc0_)\n",
    "\n"
   ]
  },
  {
   "cell_type": "code",
   "execution_count": 93,
   "metadata": {},
   "outputs": [],
   "source": [
    "# Select a fruit to work with (Options: 'Kiwi'; Forthcoming: 'Avocado', 'Persimmons', 'Papayas', 'Mango')\n",
    "fruit = 'Kiwi'\n",
    "# Select a camera to work with (Options: 'VIS', 'NIR')\n",
    "# VIS = Specim FX10\n",
    "# NIR = INNOSPEC RedEye\n",
    "camera = 'NIR'\n"
   ]
  },
  {
   "cell_type": "code",
   "execution_count": 94,
   "metadata": {},
   "outputs": [],
   "source": [
    "if camera == 'VIS':\n",
    "    wavelengths = 223\n",
    "else:\n",
    "    wavelengths = 251 "
   ]
  },
  {
   "cell_type": "code",
   "execution_count": 95,
   "metadata": {},
   "outputs": [
    {
     "name": "stdout",
     "output_type": "stream",
     "text": [
      "Loading images from data/processed/Kiwi_table_NIR.csv...\n"
     ]
    }
   ],
   "source": [
    "csv_file='data/processed/'+fruit+'_table_'+camera+'.csv'\n",
    "print(f\"Loading images from {csv_file}...\")\n",
    "# Load the CSV file\n",
    "df = pd.read_csv(csv_file)\n",
    "\n",
    "# Method to load variables from a file\n",
    "def load_variables(filename):\n",
    "    with open(filename, 'rb') as f:\n",
    "        data, length_of_statistics = pickle.load(f)\n",
    "    return data, length_of_statistics\n",
    "\n",
    "# Load images from a file\n",
    "data, length_of_statistics = load_variables('data/processed/'+fruit+'_'+camera+'_'+'images.pkl')\n"
   ]
  },
  {
   "cell_type": "code",
   "execution_count": null,
   "metadata": {},
   "outputs": [],
   "source": [
    "#Set target and refrence label\n",
    "# Potential labels:\n",
    "# init_weight\n",
    "# end_weight                \n",
    "# storage_days                \n",
    "# firmness                       \n",
    "# ripeness_state                \n",
    "# ripeness_state_fine            \n",
    "# day_int                      \n",
    "# weightloss %                  \n",
    "# ripeness_state_synthetic      \n",
    "# ripeness_state_fine_synthetic  \n",
    "target_label = df['ripeness_state_synthetic']\n",
    "refrence_label = df['ripeness_state']\n",
    "stratfication_label=df['ripeness_state_fine']\n",
    "\n",
    "\n",
    "target_statistics = [\n",
    "   {'target_statistic':'MAE','position_target_statistic':1},\n",
    "   {'target_statistic':'MSE','position_target_statistic':2},\n",
    "   {'target_statistic':'RS','position_target_statistic':3}\n",
    "]\n",
    "\n"
   ]
  },
  {
   "cell_type": "code",
   "execution_count": 97,
   "metadata": {},
   "outputs": [
    {
     "name": "stdout",
     "output_type": "stream",
     "text": [
      "Data shape: (76, 50)\n",
      "Target Labels shape: (76,)\n",
      "Length of statistics: 31\n",
      "Refrence Labels shape: (76,)\n"
     ]
    }
   ],
   "source": [
    "# Verify the loaded variables\n",
    "print(f\"Data shape: {data.shape}\")\n",
    "print(f\"Target Labels shape: {target_label.shape}\")\n",
    "print(f\"Length of statistics: {length_of_statistics}\")\n",
    "print(f\"Refrence Labels shape: {refrence_label.shape}\")"
   ]
  },
  {
   "cell_type": "code",
   "execution_count": 98,
   "metadata": {},
   "outputs": [],
   "source": [
    "# Split the data and labels\n",
    "train_data, test_data, train_labels, test_labels, train_refrence, test_refrence = train_test_split(\n",
    "    data, target_label, refrence_label, test_size=0.3, random_state=42, stratify=stratfication_label\n",
    ")"
   ]
  },
  {
   "cell_type": "code",
   "execution_count": 99,
   "metadata": {},
   "outputs": [
    {
     "name": "stdout",
     "output_type": "stream",
     "text": [
      "\n",
      "Average Mean Absolute Error: 2.3622\n",
      "Average Mean Squared Error : 11.7569\n",
      "Average R^2 score          : -31.655\n",
      "Configuration: {'model_type': 'kmeans', 'n_clusters': 10, 'init': 'k-means++', 'n_init': 10, 'max_iter': 300}\n",
      "Average Training Time      : 0.0578\n",
      "Average Testing Time       : 0.0027\n",
      "\n",
      "Average Mean Absolute Error: 1.3876\n",
      "Average Mean Squared Error : 3.7547\n",
      "Average R^2 score          : -9.4287\n",
      "Configuration: {'model_type': 'linear_regression', 'fit_intercept': True}\n",
      "Average Training Time      : 0.0017\n",
      "Average Testing Time       : 0.0002\n",
      "\n",
      "Average Mean Absolute Error: 0.8042\n",
      "Average Mean Squared Error : 0.9518\n",
      "Average R^2 score          : -1.6436\n",
      "Configuration: {'model_type': 'ridge', 'alpha': 4}\n",
      "Average Training Time      : 0.002\n",
      "Average Testing Time       : 0.0002\n",
      "\n",
      "Average Mean Absolute Error: 0.5228\n",
      "Average Mean Squared Error : 0.3669\n",
      "Average R^2 score          : -0.0191\n",
      "Configuration: {'model_type': 'svr', 'kernel': 'linear', 'C': 0.01}\n",
      "Average Training Time      : 0.0066\n",
      "Average Testing Time       : 0.0004\n",
      "\n",
      "Average Mean Absolute Error: 0.4697\n",
      "Average Mean Squared Error : 0.3642\n",
      "Average R^2 score          : -0.0116\n",
      "Configuration: {'model_type': 'dummy_mean', 'strategy': 'mean'}\n",
      "Average Training Time      : 0.0008\n",
      "Average Testing Time       : 0.0001\n",
      "\n",
      "Average Mean Absolute Error: 0.4689\n",
      "Average Mean Squared Error : 0.3668\n",
      "Average R^2 score          : -0.0187\n",
      "Configuration: {'model_type': 'dummy_median', 'strategy': 'median'}\n",
      "Average Training Time      : 0.0006\n",
      "Average Testing Time       : 0.0001\n",
      "\n",
      "Average Mean Absolute Error: 0.4675\n",
      "Average Mean Squared Error : 0.3537\n",
      "Average R^2 score          : 0.0175\n",
      "Configuration: {'model_type': 'svr', 'kernel': 'sigmoid', 'C': 0.001, 'gamma': 10, 'coef0': 3}\n",
      "Average Training Time      : 0.0015\n",
      "Average Testing Time       : 0.0003\n",
      "\n",
      "Average Mean Absolute Error: 0.4631\n",
      "Average Mean Squared Error : 0.3565\n",
      "Average R^2 score          : 0.0097\n",
      "Configuration: {'model_type': 'svr', 'kernel': 'rbf', 'C': 1, 'gamma': 0.01}\n",
      "Average Training Time      : 0.0018\n",
      "Average Testing Time       : 0.0005\n",
      "\n",
      "Average Mean Absolute Error: 0.4575\n",
      "Average Mean Squared Error : 0.4246\n",
      "Average R^2 score          : -0.1793\n",
      "Configuration: {'model_type': 'svr', 'kernel': 'poly', 'C': 0.1, 'degree': 5, 'coef0': 3}\n",
      "Average Training Time      : 0.0025\n",
      "Average Testing Time       : 0.0004\n",
      "\n",
      "Average Mean Absolute Error: 0.4475\n",
      "Average Mean Squared Error : 0.3021\n",
      "Average R^2 score          : 0.1609\n",
      "Configuration: {'model_type': 'lasso', 'alpha': 0.2}\n",
      "Average Training Time      : 0.0017\n",
      "Average Testing Time       : 0.0003\n",
      "\n",
      "Average Mean Absolute Error: 0.4382\n",
      "Average Mean Squared Error : 0.2876\n",
      "Average R^2 score          : 0.2011\n",
      "Configuration: {'model_type': 'ridge', 'alpha': 1000}\n",
      "Average Training Time      : 0.0014\n",
      "Average Testing Time       : 0.0002\n",
      "\n",
      "Average Mean Absolute Error: 0.4366\n",
      "Average Mean Squared Error : 0.3183\n",
      "Average R^2 score          : 0.116\n",
      "Configuration: {'model_type': 'svr', 'kernel': 'rbf', 'C': 10, 'gamma': 0.001}\n",
      "Average Training Time      : 0.001\n",
      "Average Testing Time       : 0.0003\n",
      "\n",
      "Average Mean Absolute Error: 0.4331\n",
      "Average Mean Squared Error : 0.2718\n",
      "Average R^2 score          : 0.245\n",
      "Configuration: {'model_type': 'knn', 'n_neighbors': 7, 'weights': 'uniform', 'p': 2}\n",
      "Average Training Time      : 0.0005\n",
      "Average Testing Time       : 0.0034\n",
      "\n",
      "Average Mean Absolute Error: 0.4316\n",
      "Average Mean Squared Error : 0.2826\n",
      "Average R^2 score          : 0.2151\n",
      "Configuration: {'model_type': 'ridge', 'alpha': 500}\n",
      "Average Training Time      : 0.0013\n",
      "Average Testing Time       : 0.0002\n",
      "\n",
      "Average Mean Absolute Error: 0.4273\n",
      "Average Mean Squared Error : 0.2755\n",
      "Average R^2 score          : 0.2347\n",
      "Configuration: {'model_type': 'ridge', 'alpha': 125}\n",
      "Average Training Time      : 0.0013\n",
      "Average Testing Time       : 0.0002\n",
      "\n",
      "Average Mean Absolute Error: 0.4268\n",
      "Average Mean Squared Error : 0.2609\n",
      "Average R^2 score          : 0.2755\n",
      "Configuration: {'model_type': 'lasso', 'alpha': 0.1}\n",
      "Average Training Time      : 0.0012\n",
      "Average Testing Time       : 0.0002\n",
      "\n",
      "Average Mean Absolute Error: 0.4217\n",
      "Average Mean Squared Error : 0.2615\n",
      "Average R^2 score          : 0.2737\n",
      "Configuration: {'model_type': 'knn', 'n_neighbors': 7, 'weights': 'distance', 'p': 2}\n",
      "Average Training Time      : 0.0007\n",
      "Average Testing Time       : 0.0032\n",
      "\n",
      "Average Mean Absolute Error: 0.4166\n",
      "Average Mean Squared Error : 0.2965\n",
      "Average R^2 score          : 0.1765\n",
      "Configuration: {'model_type': 'knn', 'n_neighbors': 3, 'weights': 'uniform', 'p': 2}\n",
      "Average Training Time      : 0.0007\n",
      "Average Testing Time       : 0.0027\n",
      "\n",
      "Average Mean Absolute Error: 0.3889\n",
      "Average Mean Squared Error : 0.2613\n",
      "Average R^2 score          : 0.2743\n",
      "Configuration: {'model_type': 'knn', 'n_neighbors': 3, 'weights': 'distance', 'p': 2}\n",
      "Average Training Time      : 0.0005\n",
      "Average Testing Time       : 0.0041\n",
      "\n"
     ]
    }
   ],
   "source": [
    "model_benchmark.process_spectral_data(train_data, train_labels,test_data, test_labels, configurations_dummy)"
   ]
  },
  {
   "cell_type": "code",
   "execution_count": 100,
   "metadata": {},
   "outputs": [
    {
     "name": "stdout",
     "output_type": "stream",
     "text": [
      "Features to be eliminated: [1, 2, 5, 6, 20, 21, 24, 25, 27, 30, 31, 35, 47]\n",
      "\n",
      "Average Mean Absolute Error: 2.7874\n",
      "Average Mean Squared Error : 11.4888\n",
      "Average R^2 score          : -30.9103\n",
      "Configuration: {'model_type': 'kmeans', 'n_clusters': 10, 'init': 'k-means++', 'n_init': 10, 'max_iter': 300}\n",
      "Average Training Time      : 0.0347\n",
      "Average Testing Time       : 0.0019\n",
      "\n",
      "Average Mean Absolute Error: 1.3754\n",
      "Average Mean Squared Error : 3.1234\n",
      "Average R^2 score          : -7.6754\n",
      "Configuration: {'model_type': 'linear_regression', 'fit_intercept': True}\n",
      "Average Training Time      : 0.0012\n",
      "Average Testing Time       : 0.0002\n",
      "\n",
      "Average Mean Absolute Error: 0.9086\n",
      "Average Mean Squared Error : 1.3532\n",
      "Average R^2 score          : -2.7586\n",
      "Configuration: {'model_type': 'ridge', 'alpha': 4}\n",
      "Average Training Time      : 0.001\n",
      "Average Testing Time       : 0.0003\n",
      "\n",
      "Average Mean Absolute Error: 0.5023\n",
      "Average Mean Squared Error : 0.4643\n",
      "Average R^2 score          : -0.2897\n",
      "Configuration: {'model_type': 'svr', 'kernel': 'poly', 'C': 0.1, 'degree': 5, 'coef0': 3}\n",
      "Average Training Time      : 0.0017\n",
      "Average Testing Time       : 0.0003\n",
      "\n",
      "Average Mean Absolute Error: 0.4697\n",
      "Average Mean Squared Error : 0.3642\n",
      "Average R^2 score          : -0.0116\n",
      "Configuration: {'model_type': 'dummy_mean', 'strategy': 'mean'}\n",
      "Average Training Time      : 0.0002\n",
      "Average Testing Time       : 0.0\n",
      "\n",
      "Average Mean Absolute Error: 0.4689\n",
      "Average Mean Squared Error : 0.3668\n",
      "Average R^2 score          : -0.0187\n",
      "Configuration: {'model_type': 'dummy_median', 'strategy': 'median'}\n",
      "Average Training Time      : 0.0005\n",
      "Average Testing Time       : 0.0\n",
      "\n",
      "Average Mean Absolute Error: 0.4672\n",
      "Average Mean Squared Error : 0.3532\n",
      "Average R^2 score          : 0.0189\n",
      "Configuration: {'model_type': 'svr', 'kernel': 'sigmoid', 'C': 0.001, 'gamma': 10, 'coef0': 3}\n",
      "Average Training Time      : 0.0007\n",
      "Average Testing Time       : 0.0003\n",
      "\n",
      "Average Mean Absolute Error: 0.4616\n",
      "Average Mean Squared Error : 0.3756\n",
      "Average R^2 score          : -0.0433\n",
      "Configuration: {'model_type': 'svr', 'kernel': 'linear', 'C': 0.01}\n",
      "Average Training Time      : 0.0027\n",
      "Average Testing Time       : 0.0002\n",
      "\n",
      "Average Mean Absolute Error: 0.4568\n",
      "Average Mean Squared Error : 0.3519\n",
      "Average R^2 score          : 0.0226\n",
      "Configuration: {'model_type': 'svr', 'kernel': 'rbf', 'C': 1, 'gamma': 0.01}\n",
      "Average Training Time      : 0.0007\n",
      "Average Testing Time       : 0.0004\n",
      "\n",
      "Average Mean Absolute Error: 0.4273\n",
      "Average Mean Squared Error : 0.3247\n",
      "Average R^2 score          : 0.0982\n",
      "Configuration: {'model_type': 'ridge', 'alpha': 125}\n",
      "Average Training Time      : 0.001\n",
      "Average Testing Time       : 0.0003\n",
      "\n",
      "Average Mean Absolute Error: 0.4267\n",
      "Average Mean Squared Error : 0.2866\n",
      "Average R^2 score          : 0.2041\n",
      "Configuration: {'model_type': 'lasso', 'alpha': 0.2}\n",
      "Average Training Time      : 0.0015\n",
      "Average Testing Time       : 0.0003\n",
      "\n",
      "Average Mean Absolute Error: 0.4203\n",
      "Average Mean Squared Error : 0.2595\n",
      "Average R^2 score          : 0.2793\n",
      "Configuration: {'model_type': 'knn', 'n_neighbors': 7, 'weights': 'uniform', 'p': 2}\n",
      "Average Training Time      : 0.0007\n",
      "Average Testing Time       : 0.0021\n",
      "\n",
      "Average Mean Absolute Error: 0.4166\n",
      "Average Mean Squared Error : 0.2825\n",
      "Average R^2 score          : 0.2153\n",
      "Configuration: {'model_type': 'lasso', 'alpha': 0.1}\n",
      "Average Training Time      : 0.0009\n",
      "Average Testing Time       : 0.0001\n",
      "\n",
      "Average Mean Absolute Error: 0.4128\n",
      "Average Mean Squared Error : 0.272\n",
      "Average R^2 score          : 0.2445\n",
      "Configuration: {'model_type': 'ridge', 'alpha': 1000}\n",
      "Average Training Time      : 0.0008\n",
      "Average Testing Time       : 0.0001\n",
      "\n",
      "Average Mean Absolute Error: 0.4109\n",
      "Average Mean Squared Error : 0.2794\n",
      "Average R^2 score          : 0.2239\n",
      "Configuration: {'model_type': 'ridge', 'alpha': 500}\n",
      "Average Training Time      : 0.0007\n",
      "Average Testing Time       : 0.0001\n",
      "\n",
      "Average Mean Absolute Error: 0.4021\n",
      "Average Mean Squared Error : 0.2432\n",
      "Average R^2 score          : 0.3244\n",
      "Configuration: {'model_type': 'knn', 'n_neighbors': 7, 'weights': 'distance', 'p': 2}\n",
      "Average Training Time      : 0.0004\n",
      "Average Testing Time       : 0.0016\n",
      "\n",
      "Average Mean Absolute Error: 0.3565\n",
      "Average Mean Squared Error : 0.2321\n",
      "Average R^2 score          : 0.3552\n",
      "Configuration: {'model_type': 'svr', 'kernel': 'rbf', 'C': 10, 'gamma': 0.001}\n",
      "Average Training Time      : 0.0015\n",
      "Average Testing Time       : 0.0005\n",
      "\n",
      "Average Mean Absolute Error: 0.3221\n",
      "Average Mean Squared Error : 0.1771\n",
      "Average R^2 score          : 0.5082\n",
      "Configuration: {'model_type': 'knn', 'n_neighbors': 3, 'weights': 'uniform', 'p': 2}\n",
      "Average Training Time      : 0.0006\n",
      "Average Testing Time       : 0.0018\n",
      "\n",
      "Average Mean Absolute Error: 0.3193\n",
      "Average Mean Squared Error : 0.1744\n",
      "Average R^2 score          : 0.5157\n",
      "Configuration: {'model_type': 'knn', 'n_neighbors': 3, 'weights': 'distance', 'p': 2}\n",
      "Average Training Time      : 0.0004\n",
      "Average Testing Time       : 0.0017\n",
      "\n"
     ]
    }
   ],
   "source": [
    "features_to_eliminate = model_benchmark.feature_optimizer(train_data, train_labels, test_data, test_labels, configurations_dummy)"
   ]
  },
  {
   "cell_type": "markdown",
   "metadata": {},
   "source": [
    "## <a id='toc1_12_'></a>[Establish comparison to refrence paper](#toc0_)"
   ]
  },
  {
   "cell_type": "code",
   "execution_count": 102,
   "metadata": {},
   "outputs": [],
   "source": [
    "train_data = model_benchmark.remove_features(train_data, features_to_eliminate[0], features_to_eliminate[1:])\n",
    "test_data = model_benchmark.remove_features(test_data, features_to_eliminate[0], features_to_eliminate[1:])\n"
   ]
  },
  {
   "cell_type": "code",
   "execution_count": 105,
   "metadata": {},
   "outputs": [
    {
     "name": "stdout",
     "output_type": "stream",
     "text": [
      "{'model_type': 'knn', 'n_neighbors': 3, 'weights': 'distance', 'p': 2}\n",
      "defaultdict(<class 'list'>, {(0.31925069345519097, 0.17436500500894414, 0.5156982519632655): [({'model_type': 'knn', 'n_neighbors': 3, 'weights': 'distance', 'p': 2}, {'Average Training Time': 0.001543283462524414, 'Average Testing Time': 0.007234334945678711})]})\n",
      "Predicted labels: [2.48960639 2.21488839 2.01662612 1.58812722 1.86205353 2.06546383\n",
      " 1.67005598 2.00069908 2.20075814 1.92383267 2.13659886 2.07155693\n",
      " 1.93083174 2.18372811 2.3017932  2.54251843 2.29747062 2.07023307\n",
      " 1.88835561 1.34531062 2.03078081 1.74293861 1.47823234]\n"
     ]
    },
    {
     "data": {
      "image/png": "[encoded data removed]",
      "text/plain": [
       "<Figure size 800x600 with 2 Axes>"
      ]
     },
     "metadata": {},
     "output_type": "display_data"
    },
    {
     "name": "stdout",
     "output_type": "stream",
     "text": [
      "Predicted labels: [3 2 2 1 2 2 1 2 2 2 2 2 2 2 3 3 3 2 2 1 2 1 1]\n",
      "Actual ripeness : [3. 3. 1. 1. 1. 2. 2. 2. 2. 2. 2. 2. 2. 2. 3. 3. 3. 2. 2. 1. 3. 1. 1.]\n",
      "Accuracy: 0.782608695652174\n",
      "46    1.876576\n",
      "14    2.999314\n",
      "38    2.066157\n",
      "9     1.094638\n",
      "45    1.876576\n",
      "3     1.987126\n",
      "69    1.127704\n",
      "52    2.999658\n",
      "42    2.104088\n",
      "12    2.812606\n",
      "18    1.127811\n",
      "65    2.812947\n",
      "15    2.052138\n",
      "59    2.085257\n",
      "49    2.468105\n",
      "34    2.035680\n",
      "56    2.063442\n",
      "33    2.035680\n",
      "70    1.172741\n",
      "25    1.099506\n",
      "55    2.999617\n",
      "41    2.920797\n",
      "54    1.128201\n",
      "16    2.052138\n",
      "43    1.831160\n",
      "6     1.875574\n",
      "10    1.146577\n",
      "61    2.088507\n",
      "29    2.812704\n",
      "36    1.113295\n",
      "53    3.000000\n",
      "67    2.447564\n",
      "68    1.099506\n",
      "11    1.146577\n",
      "57    2.063442\n",
      "8     1.094638\n",
      "74    3.000000\n",
      "23    2.085257\n",
      "30    1.882299\n",
      "47    2.064085\n",
      "44    1.831160\n",
      "7     1.875574\n",
      "26    1.810483\n",
      "2     1.987126\n",
      "66    2.812947\n",
      "19    1.876991\n",
      "75    2.999617\n",
      "63    1.172741\n",
      "4     1.842644\n",
      "51    2.999658\n",
      "71    2.066157\n",
      "31    1.882299\n",
      "60    2.063503\n",
      "Name: ripeness_state_synthetic, dtype: float64\n"
     ]
    }
   ],
   "source": [
    "# Select model configuration\n",
    "config ={'model_type': 'knn', 'n_neighbors': 3, 'weights': 'distance', 'p': 2}\n",
    "# Estimate accuracy of the model and draw confusion matrix\n",
    "model_benchmark.compare_accuracy(config, train_data, train_labels, test_data, test_labels, test_refrence)\n",
    "print(train_labels)"
   ]
  },
  {
   "cell_type": "code",
   "execution_count": 104,
   "metadata": {},
   "outputs": [],
   "source": [
    "import importlib\n",
    "\n",
    "# Reload local modules in case they have been changed\n",
    "importlib.reload(model_benchmark)\n",
    "importlib.reload(loader)\n",
    "from configurations import *\n"
   ]
  }
 ],
 "metadata": {
  "kernelspec": {
   "display_name": "spectralenv",
   "language": "python",
   "name": "python3"
  },
  "language_info": {
   "codemirror_mode": {
    "name": "ipython",
    "version": 3
   },
   "file_extension": ".py",
   "mimetype": "text/x-python",
   "name": "python",
   "nbconvert_exporter": "python",
   "pygments_lexer": "ipython3",
   "version": "3.12.2"
  }
 },
 "nbformat": 4,
 "nbformat_minor": 2
}
